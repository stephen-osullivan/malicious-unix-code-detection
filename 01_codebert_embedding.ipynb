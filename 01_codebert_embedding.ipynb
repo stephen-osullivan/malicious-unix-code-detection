{
 "cells": [
  {
   "cell_type": "code",
   "execution_count": 11,
   "metadata": {},
   "outputs": [
    {
     "name": "stdout",
     "output_type": "stream",
     "text": [
      "True\n"
     ]
    }
   ],
   "source": [
    "import numpy as np\n",
    "from transformers import RobertaTokenizer, RobertaModel\n",
    "import torch\n",
    "from tqdm import tqdm\n",
    "print(torch.cuda.is_available())\n",
    "device = 'cuda'\n",
    "\n",
    "# Load CodeBERT model and tokenizer\n",
    "tokenizer = RobertaTokenizer.from_pretrained(\"microsoft/codebert-base\")\n",
    "model = RobertaModel.from_pretrained(\"microsoft/codebert-base\").to(device)\n",
    "\n",
    "\n",
    "# Function to generate embeddings in batches\n",
    "def get_embeddings_in_batches(commands, batch_size=16):\n",
    "    embeddings = []\n",
    "    for i in tqdm(range(0, len(commands), batch_size)):\n",
    "        batch = commands[i:i + batch_size]\n",
    "        \n",
    "        # Tokenize batch of commands\n",
    "        inputs = tokenizer(batch, return_tensors=\"pt\", truncation=True, padding=True, max_length=128)\n",
    "        \n",
    "        # Move inputs to device\n",
    "        inputs = {k: v.to(device) for k, v in inputs.items()}\n",
    "        \n",
    "        # Generate embeddings\n",
    "        with torch.no_grad():\n",
    "            outputs = model(**inputs)\n",
    "            batch_embeddings = outputs.last_hidden_state.mean(dim=1).cpu().numpy()  # Move to CPU after computation\n",
    "        \n",
    "        embeddings.extend(batch_embeddings)\n",
    "    \n",
    "    return np.array(embeddings)"
   ]
  },
  {
   "cell_type": "code",
   "execution_count": 37,
   "metadata": {},
   "outputs": [
    {
     "name": "stdout",
     "output_type": "stream",
     "text": [
      "len(benign_data)=12607\n",
      "len(malicious_data)=123\n"
     ]
    },
    {
     "name": "stderr",
     "output_type": "stream",
     "text": [
      "100%|██████████| 796/796 [00:19<00:00, 41.15it/s]\n"
     ]
    }
   ],
   "source": [
    "import numpy as np\n",
    "import pandas as pd\n",
    "\n",
    "# load data\n",
    "with open('data/nl2bash.cm') as f:\n",
    "    benign_data = pd.DataFrame({'command': f.readlines(), 'label' : 0})\n",
    "print(f'{len(benign_data)=}')\n",
    "\n",
    "with open('data/malicious.cm') as f:\n",
    "    malicious_data = pd.DataFrame({'command': f.readlines(), 'label' : 1})\n",
    "print(f'{len(malicious_data)=}')\n",
    "data = pd.concat([benign_data, malicious_data], ignore_index=True)\n",
    "\n",
    "\n",
    "# Generate embeddings\n",
    "embeddings: np.ndarray = get_embeddings_in_batches(data['command'].tolist())\n"
   ]
  },
  {
   "cell_type": "code",
   "execution_count": 38,
   "metadata": {},
   "outputs": [
    {
     "name": "stdout",
     "output_type": "stream",
     "text": [
      "top -b -d2 -s1 | sed -e '1,/USERNAME/d' | sed -e '1,/^$/d'\n",
      "\n",
      "{'input_ids': [[0, 8766, 111, 428, 111, 417, 176, 111, 29, 134, 1721, 10195, 111, 242, 128, 134, 6, 73, 47955, 48307, 73, 417, 108, 1721, 10195, 111, 242, 128, 134, 6, 73, 35227, 1629, 73, 417, 108, 50118, 2]], 'attention_mask': [[1, 1, 1, 1, 1, 1, 1, 1, 1, 1, 1, 1, 1, 1, 1, 1, 1, 1, 1, 1, 1, 1, 1, 1, 1, 1, 1, 1, 1, 1, 1, 1, 1, 1, 1, 1, 1, 1]]}\n",
      "top -b -n 1 -u abc | awk 'NR>7 { sum += $9; } END { print sum; }'\n",
      "\n",
      "{'input_ids': [[0, 8766, 111, 428, 111, 282, 112, 111, 257, 4091, 438, 1721, 19267, 330, 128, 17085, 15698, 406, 25522, 6797, 49371, 68, 466, 131, 35524, 34588, 25522, 5780, 6797, 131, 35524, 108, 50118, 2]], 'attention_mask': [[1, 1, 1, 1, 1, 1, 1, 1, 1, 1, 1, 1, 1, 1, 1, 1, 1, 1, 1, 1, 1, 1, 1, 1, 1, 1, 1, 1, 1, 1, 1, 1, 1, 1]]}\n",
      "top -b -d 5 -n 2 | awk '$1 == \"PID\" {block_num++; next} block_num == 2 {sum += $9;} END {print sum}'\n",
      "\n",
      "{'input_ids': [[0, 8766, 111, 428, 111, 417, 195, 111, 282, 132, 1721, 19267, 330, 128, 1629, 134, 45994, 22, 510, 2688, 113, 25522, 16776, 1215, 42666, 49789, 220, 24303, 1803, 1215, 42666, 45994, 132, 25522, 18581, 49371, 68, 466, 48803, 34588, 25522, 17265, 6797, 24303, 108, 50118, 2]], 'attention_mask': [[1, 1, 1, 1, 1, 1, 1, 1, 1, 1, 1, 1, 1, 1, 1, 1, 1, 1, 1, 1, 1, 1, 1, 1, 1, 1, 1, 1, 1, 1, 1, 1, 1, 1, 1, 1, 1, 1, 1, 1, 1, 1, 1, 1, 1, 1, 1]]}\n",
      "top -n 1\n",
      "\n",
      "{'input_ids': [[0, 8766, 111, 282, 112, 50118, 2]], 'attention_mask': [[1, 1, 1, 1, 1, 1, 1]]}\n",
      "top -bn1 | grep zombie\n",
      "\n",
      "{'input_ids': [[0, 8766, 111, 6316, 134, 1721, 48501, 28731, 50118, 2]], 'attention_mask': [[1, 1, 1, 1, 1, 1, 1, 1, 1, 1]]}\n"
     ]
    }
   ],
   "source": [
    "# examine tokenizer\n",
    "for i in range(5):\n",
    "    print(data.command[i])\n",
    "    print(tokenizer([data.command[i]]))"
   ]
  },
  {
   "cell_type": "code",
   "execution_count": 45,
   "metadata": {},
   "outputs": [
    {
     "name": "stdout",
     "output_type": "stream",
     "text": [
      "Closest elements\n",
      "command 1:  top -b -d2 -s1 | sed -e '1,/USERNAME/d' | sed -e '1,/^$/d'\n",
      "\n",
      "command 2:  nl -n rz ca | awk -vOFS=\"\\t\" '/Ca/{$1=\"#\"$2} {$1=$1}1' | sort -k1,1 | cut -f2-\n",
      "\n",
      "Closest elements\n",
      "command 1:  top -b -n 1 -u abc | awk 'NR>7 { sum += $9; } END { print sum; }'\n",
      "\n",
      "command 2:  top -b -d 5 -n 2 | awk '$1 == \"PID\" {block_num++; next} block_num == 2 {sum += $9;} END {print sum}'\n",
      "\n",
      "Closest elements\n",
      "command 1:  top -b -d 5 -n 2 | awk '$1 == \"PID\" {block_num++; next} block_num == 2 {sum += $9;} END {print sum}'\n",
      "\n",
      "command 2:  find -maxdepth 1 -type d | sort | while read -r dir; do n=$(find \"$dir\" -type d | wc -l); let n--; printf \"%4d : %s\\n\" $n \"$dir\"; done\n",
      "\n",
      "Closest elements\n",
      "command 1:  top -n 1\n",
      "\n",
      "command 2:  screen -r foo\n",
      "\n",
      "Closest elements\n",
      "command 1:  top -bn1 | grep zombie\n",
      "\n",
      "command 2:  foo | tee output.file\n",
      "\n"
     ]
    }
   ],
   "source": [
    "# examine embeddings\n",
    "embedding_norms = np.sqrt((embeddings * embeddings).sum(axis=1))\n",
    "for i in range(5):\n",
    "    print('Closest elements')\n",
    "    print('command 1: ', data.command[i])\n",
    "    command_embedding = embeddings[i]\n",
    "    command_norm = np.sqrt((command_embedding * command_embedding).sum())\n",
    "    cosines = np.matmul(embeddings, command_embedding.T)/(command_norm * embedding_norms)\n",
    "    # Find the index of the largest element\n",
    "    largest_idx = np.argmax(cosines)\n",
    "    # Temporarily replace the largest element with a very small value\n",
    "    cosines[largest_idx] = -np.inf\n",
    "\n",
    "    # Find the index of the second largest element\n",
    "    second_largest_idx = np.argmax(cosines)\n",
    "    print('command 2: ', data.command[second_largest_idx])"
   ]
  },
  {
   "cell_type": "code",
   "execution_count": 27,
   "metadata": {},
   "outputs": [],
   "source": [
    "from sklearn.ensemble import IsolationForest\n",
    "\n",
    "# Train an Isolation Forest model on embeddings\n",
    "iso_forest = IsolationForest(contamination=0.01, random_state=42)  # Adjust contamination rate based on expected anomaly rate\n",
    "iso_forest.fit(embeddings)\n",
    "\n",
    "# Predict anomalies (1 = normal, -1 = anomaly)\n",
    "predictions = iso_forest.predict(embeddings)\n",
    "data[\"anomaly\"] = predictions"
   ]
  },
  {
   "cell_type": "code",
   "execution_count": 49,
   "metadata": {},
   "outputs": [
    {
     "data": {
      "text/plain": [
       "<Axes: >"
      ]
     },
     "execution_count": 49,
     "metadata": {},
     "output_type": "execute_result"
    },
    {
     "data": {
      "image/png": "[encoded data removed]",
      "text/plain": [
       "<Figure size 640x480 with 1 Axes>"
      ]
     },
     "metadata": {},
     "output_type": "display_data"
    }
   ],
   "source": [
    "# histogram of anomaly scores\n",
    "pd.Series(iso_forest.decision_function(embeddings)).hist(bins = 20)"
   ]
  },
  {
   "cell_type": "code",
   "execution_count": 28,
   "metadata": {},
   "outputs": [
    {
     "name": "stdout",
     "output_type": "stream",
     "text": [
      "Anomalous Commands:\n",
      "                                                 command  label  anomaly\n",
      "211    rsync -av --progress --exclude=*.VOB --exclude...      0       -1\n",
      "223                     screen -S 'name' 'application'\\n      0       -1\n",
      "257                                 ifconfig eth0 down\\n      0       -1\n",
      "269    ls -alR -I dev -I run -I sys -I tmp -I proc /p...      0       -1\n",
      "330    cat /file/with/numbers | php -r '$s = 0; while...      0       -1\n",
      "...                                                  ...    ...      ...\n",
      "12520                                        sleep 500\\n      0       -1\n",
      "38             /usr/bin/script -qc /bin/bash /dev/null\\n      1       -1\n",
      "58     python -c 'import socket,subprocess,os,pty;s=s...      1       -1\n",
      "64     /tmp/socat exec:'bash -li',pty,stderr,setsid,s...      1       -1\n",
      "75     binarylist='aria2c\\|arp\\|ash\\|awk\\|base64\\|bas...      1       -1\n",
      "\n",
      "[128 rows x 3 columns]\n"
     ]
    }
   ],
   "source": [
    "# Filter and inspect anomalous commands\n",
    "anomalies = data[data[\"anomaly\"] == -1]\n",
    "print(\"Anomalous Commands:\")\n",
    "print(anomalies)"
   ]
  },
  {
   "cell_type": "code",
   "execution_count": 29,
   "metadata": {},
   "outputs": [
    {
     "data": {
      "image/png": "[encoded data removed]",
      "text/plain": [
       "<Figure size 640x480 with 2 Axes>"
      ]
     },
     "metadata": {},
     "output_type": "display_data"
    }
   ],
   "source": [
    "from sklearn.metrics import confusion_matrix, ConfusionMatrixDisplay\n",
    "import matplotlib.pyplot as plt\n",
    "\n",
    "# Compute confusion matrix\n",
    "cm = confusion_matrix(data.label, data.anomaly == -1)\n",
    "\n",
    "# Plot confusion matrix\n",
    "disp = ConfusionMatrixDisplay(confusion_matrix=cm, display_labels=[\"Normal\", \"Anomaly\"])\n",
    "disp.plot(cmap=plt.cm.Blues)\n",
    "plt.title(\"Confusion Matrix\")\n",
    "plt.show()"
   ]
  },
  {
   "cell_type": "code",
   "execution_count": 30,
   "metadata": {},
   "outputs": [
    {
     "data": {
      "text/plain": [
       "array([[ 0.12423915,  0.09610722,  0.13251416, ...,  0.0832331 ,\n",
       "        -0.37747318,  0.15544331],\n",
       "       [ 0.03287267,  0.0483112 ,  0.13158159, ..., -0.19326265,\n",
       "        -0.40537053,  0.4136214 ],\n",
       "       [-0.05240067,  0.03378901,  0.11280235, ..., -0.3642111 ,\n",
       "        -0.26696387,  0.31694528],\n",
       "       ...,\n",
       "       [ 0.0029096 ,  0.00958512,  0.13755839, ..., -0.3308046 ,\n",
       "        -0.31713763,  0.35643888],\n",
       "       [ 0.17644921,  0.14021997,  0.06951611, ...,  0.04152917,\n",
       "        -0.13914667,  0.24506591],\n",
       "       [ 0.11854296,  0.190349  ,  0.10325171, ..., -0.08515152,\n",
       "        -0.19618762,  0.17444731]], dtype=float32)"
      ]
     },
     "execution_count": 30,
     "metadata": {},
     "output_type": "execute_result"
    }
   ],
   "source": [
    "embeddings"
   ]
  },
  {
   "cell_type": "code",
   "execution_count": null,
   "metadata": {},
   "outputs": [],
   "source": [
    "from sklearn.manifold import TSNE\n",
    "\n",
    "# Reduce dimensions with t-SNE\n",
    "tsne = TSNE(n_components=2, random_state=42)\n",
    "embeddings_2d = tsne.fit_transform(embeddings)\n",
    "\n",
    "labels = data.label\n",
    "# Plot t-SNE results\n",
    "plt.figure(figsize=(8, 6))\n",
    "plt.scatter(embeddings_2d[labels == 0, 0], embeddings_2d[labels == 0, 1], label=\"Normal\", alpha=0.5, c=\"blue\")\n",
    "plt.scatter(embeddings_2d[labels == 1, 0], embeddings_2d[labels == 1, 1], label=\"Anomaly\", alpha=0.5, c=\"red\")\n",
    "plt.title(\"t-SNE Plot of Unix Command Embeddings\")\n",
    "plt.xlabel(\"t-SNE Dimension 1\")\n",
    "plt.ylabel(\"t-SNE Dimension 2\")\n",
    "plt.legend()\n",
    "plt.show()"
   ]
  },
  {
   "cell_type": "code",
   "execution_count": null,
   "metadata": {},
   "outputs": [],
   "source": []
  }
 ],
 "metadata": {
  "kernelspec": {
   "display_name": ".venv",
   "language": "python",
   "name": "python3"
  },
  "language_info": {
   "codemirror_mode": {
    "name": "ipython",
    "version": 3
   },
   "file_extension": ".py",
   "mimetype": "text/x-python",
   "name": "python",
   "nbconvert_exporter": "python",
   "pygments_lexer": "ipython3",
   "version": "3.10.6"
  }
 },
 "nbformat": 4,
 "nbformat_minor": 2
}
